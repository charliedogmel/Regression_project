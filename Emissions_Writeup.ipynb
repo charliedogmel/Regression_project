{
 "cells": [
  {
   "cell_type": "markdown",
   "id": "62e33654",
   "metadata": {},
   "source": [
    "# Interpreting Greenhouse Gas Emissions"
   ]
  },
  {
   "cell_type": "markdown",
   "id": "e3e1b2f6",
   "metadata": {},
   "source": [
    "#### Melissa Cooper"
   ]
  },
  {
   "cell_type": "markdown",
   "id": "8c40930a",
   "metadata": {},
   "source": [
    "## Abstract"
   ]
  },
  {
   "cell_type": "markdown",
   "id": "c6852544",
   "metadata": {},
   "source": [
    "The goal of this project was to use linear regression to interpret countries' greenhouse gas emissions based on social, economic, and geographic data. I worked with the CIA's World Factbook and the US Energy Information Administration websites to web scrape and download ten years of each country's information and CO2 emissions, which are the dominant component of greenhouse gases. I used intensive web scraping and refined a ridge regression model to show interesting feature/target relationships."
   ]
  },
  {
   "cell_type": "markdown",
   "id": "115600a5",
   "metadata": {},
   "source": [
    "## Design"
   ]
  },
  {
   "cell_type": "markdown",
   "id": "e61cedc2",
   "metadata": {},
   "source": [
    "The project originates from exploration into data available via web scraping surrounding climate change and environmental issues like ocean plastic pollution and food waste. The data from the CIA and the USEIA surrounding emissions were both plentiful and relevant so it became a question of whether a country's features affect its greenhouse gas emissions level. In particular, it is well-known that energy consumption affects emissions, but can this exploration show how much and which ones contribute most. Also, the interpretation may show if social, economic, and geographic features play a role in emissions."
   ]
  },
  {
   "cell_type": "markdown",
   "id": "ac7d637a",
   "metadata": {},
   "source": [
    "# Data"
   ]
  },
  {
   "cell_type": "markdown",
   "id": "3b003f12",
   "metadata": {},
   "source": [
    "With a target of CO2 emissions, the feature set includes land area, water area, population, GDP per capita, percentage of population below poverty line, electricity production, electricity consumption, refined petroleum production, refined petroleum consumption, natural gas production, and natural gas consumption for each country every year between 2009-2018. All of the data was scraped from the CIA World Factbooks except for the CO2 emissions which came from a downloaded csv. Before data cleaning, this amounted to 2,500+ data points with 13 features."
   ]
  },
  {
   "cell_type": "markdown",
   "id": "20698a19",
   "metadata": {},
   "source": [
    "The web scraping was particularly complex because the CIA website is poorly designed and changes significantly every few years, which changes the entire scraping structure. Data from 2018 has a fairly organized, although deeply nested structure, with reasonably unique id names. All previous years have a similar deeply nested structure, but with no or non-unique id's or classes. The websites also change the file naming along with the structure, so the web scraping offered many learning opportunities."
   ]
  },
  {
   "cell_type": "markdown",
   "id": "e849031c",
   "metadata": {},
   "source": [
    "Data processing involved various methods of cleaning to ensure clean merging between all the dataframes. Notably, the CO2 emissions dataframe required complete refiguration to fit into the features dataframe structure. Also, 2015 population data was missing from the website so it was interpolated between existing 2014 and 2016 data."
   ]
  },
  {
   "cell_type": "markdown",
   "id": "8a569535",
   "metadata": {},
   "source": [
    "# Algorithms"
   ]
  },
  {
   "cell_type": "markdown",
   "id": "d9b95748",
   "metadata": {},
   "source": [
    "Exploring feature engineering led to the conclusion that it is already incorporated into existing data of GDP per capita and percent of population below poverty line. The LARS Path helped to explore feature importance. It confirmed the initial hypothesis that energy consumption and people play a strong role in emissions when the top five features to pop out of the LASSO Path first included electricity consumption, population, refined petroleum consumption, and natural gas consumption."
   ]
  },
  {
   "cell_type": "markdown",
   "id": "1133ce76",
   "metadata": {},
   "source": [
    "I used the train, validate, test methodology to try out various regression models including Linear, Ridge, RidgeCV, LASSO, and polynomial regressions. I chose Ridge regression for several reasons. It showed the strongest cross-validation score and I wanted to keep all the features despite some potential multi-collinearity. The dataset was split 60/20/20 into train/validate/test and scores were calculated with 5-fold cross validation over various alphas to find the optimal alpha. The test set resulted in an R^2 score of 0.9846 and MAE of 69.315."
   ]
  },
  {
   "cell_type": "markdown",
   "id": "18082cf8",
   "metadata": {},
   "source": [
    "# Tools"
   ]
  },
  {
   "cell_type": "markdown",
   "id": "5ed1887b",
   "metadata": {},
   "source": [
    "* Web scraping:  Selenium & Beautiful Soup\n",
    "* Data manipulation:  Numpy & Pandas\n",
    "* Plotting:  Matplotlib & Seaborn"
   ]
  },
  {
   "cell_type": "markdown",
   "id": "154f3635",
   "metadata": {},
   "source": [
    "# Communication"
   ]
  },
  {
   "cell_type": "markdown",
   "id": "47617bb0",
   "metadata": {},
   "source": [
    "Slides, presentation, and this writeup"
   ]
  }
 ],
 "metadata": {
  "kernelspec": {
   "display_name": "Python [conda env:metis] *",
   "language": "python",
   "name": "conda-env-metis-py"
  },
  "language_info": {
   "codemirror_mode": {
    "name": "ipython",
    "version": 3
   },
   "file_extension": ".py",
   "mimetype": "text/x-python",
   "name": "python",
   "nbconvert_exporter": "python",
   "pygments_lexer": "ipython3",
   "version": "3.8.10"
  }
 },
 "nbformat": 4,
 "nbformat_minor": 5
}
